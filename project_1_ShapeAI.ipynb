{
  "nbformat": 4,
  "nbformat_minor": 0,
  "metadata": {
    "colab": {
      "name": "project 1--ShapeAI.ipynb",
      "provenance": [],
      "collapsed_sections": [],
      "mount_file_id": "1o11L_TH9q1afQxkCmpxFF7X99knjHOmY",
      "authorship_tag": "ABX9TyO6AGBP4csrHVAlbjO3BWYl",
      "include_colab_link": true
    },
    "kernelspec": {
      "name": "python3",
      "display_name": "Python 3"
    },
    "language_info": {
      "name": "python"
    }
  },
  "cells": [
    {
      "cell_type": "markdown",
      "metadata": {
        "id": "view-in-github",
        "colab_type": "text"
      },
      "source": [
        "<a href=\"https://colab.research.google.com/github/pratyusha-code/Loan-Eligibility-Prediction/blob/main/project_1_ShapeAI.ipynb\" target=\"_parent\"><img src=\"https://colab.research.google.com/assets/colab-badge.svg\" alt=\"Open In Colab\"/></a>"
      ]
    },
    {
      "cell_type": "markdown",
      "metadata": {
        "id": "ZVr_lnEETap-"
      },
      "source": [
        "# **PRATYUSHA MITRA**\n",
        "\n",
        "**PROJECT 1 : LOAN PREDICTION**"
      ]
    },
    {
      "cell_type": "markdown",
      "metadata": {
        "id": "iQfTJHo-9xQN"
      },
      "source": [
        "**Problem Statement:**\n",
        "**Loan eligibility process (real time) based on customer detail provided while applying online through application form.**\n",
        "\n",
        "**Details are: Gender, Marital Status, Education, Number of Dependents, Income, Loan Amount, Credit History and others.**"
      ]
    },
    {
      "cell_type": "markdown",
      "metadata": {
        "id": "7E1L4x_0TmGN"
      },
      "source": [
        ""
      ]
    },
    {
      "cell_type": "markdown",
      "metadata": {
        "id": "maFDLQWm-YVa"
      },
      "source": [
        "**Importing necessary libraries.**"
      ]
    },
    {
      "cell_type": "code",
      "metadata": {
        "id": "mKRRvDb60dgy"
      },
      "source": [
        "import pandas as pd\n",
        "import matplotlib.pyplot as plt\n",
        "import seaborn as sns\n",
        "import os\n",
        "import numpy as np\n",
        "%matplotlib inline\n",
        "import warnings\n",
        "warnings.filterwarnings(\"ignore\")\n",
        "import pickle"
      ],
      "execution_count": null,
      "outputs": []
    },
    {
      "cell_type": "markdown",
      "metadata": {
        "id": "1eGM2BMs9nzs"
      },
      "source": [
        "**Loading the train dataset to analyze further** "
      ]
    },
    {
      "cell_type": "code",
      "metadata": {
        "id": "LGlV_KuS1r60"
      },
      "source": [
        "train_data=pd.read_csv(\"/content/drive/MyDrive/Training Data.csv\")"
      ],
      "execution_count": null,
      "outputs": []
    },
    {
      "cell_type": "markdown",
      "metadata": {
        "id": "v7onJkRB9afa"
      },
      "source": [
        "*Clearly the data shows it contains 13 columns which are self explanatory from the given information.*\n",
        "\n",
        "*We have 12 independent variables and 1 target variable, i.e. Loan_Status in the training dataset.* "
      ]
    },
    {
      "cell_type": "code",
      "metadata": {
        "colab": {
          "base_uri": "https://localhost:8080/"
        },
        "id": "1rr67a65fb6w",
        "outputId": "1936f8c6-90fb-4f17-93e3-89e74efc3e75"
      },
      "source": [
        "from google.colab import drive\n",
        "drive.mount('/content/drive')"
      ],
      "execution_count": null,
      "outputs": [
        {
          "output_type": "stream",
          "name": "stdout",
          "text": [
            "Drive already mounted at /content/drive; to attempt to forcibly remount, call drive.mount(\"/content/drive\", force_remount=True).\n"
          ]
        }
      ]
    },
    {
      "cell_type": "code",
      "metadata": {
        "id": "muYXPM6I1sKL",
        "colab": {
          "base_uri": "https://localhost:8080/"
        },
        "outputId": "e89afbd9-429d-4e0c-944b-fb777ec3db10"
      },
      "source": [
        "train_data.info()"
      ],
      "execution_count": null,
      "outputs": [
        {
          "output_type": "stream",
          "name": "stdout",
          "text": [
            "<class 'pandas.core.frame.DataFrame'>\n",
            "RangeIndex: 614 entries, 0 to 613\n",
            "Data columns (total 13 columns):\n",
            " #   Column             Non-Null Count  Dtype  \n",
            "---  ------             --------------  -----  \n",
            " 0   Loan_ID            614 non-null    object \n",
            " 1   Gender             601 non-null    object \n",
            " 2   Married            611 non-null    object \n",
            " 3   Dependents         599 non-null    object \n",
            " 4   Education          614 non-null    object \n",
            " 5   Self_Employed      582 non-null    object \n",
            " 6   ApplicantIncome    614 non-null    int64  \n",
            " 7   CoapplicantIncome  614 non-null    float64\n",
            " 8   LoanAmount         592 non-null    float64\n",
            " 9   Loan_Amount_Term   600 non-null    float64\n",
            " 10  Credit_History     564 non-null    float64\n",
            " 11  Property_Area      614 non-null    object \n",
            " 12  Loan_Status        614 non-null    object \n",
            "dtypes: float64(4), int64(1), object(8)\n",
            "memory usage: 62.5+ KB\n"
          ]
        }
      ]
    },
    {
      "cell_type": "markdown",
      "metadata": {
        "id": "fA46nRf3C7om"
      },
      "source": [
        "**Counting the null entries in each columns**"
      ]
    },
    {
      "cell_type": "code",
      "metadata": {
        "id": "bEykVpFp1sXk",
        "colab": {
          "base_uri": "https://localhost:8080/"
        },
        "outputId": "a50e40a0-6c90-49d8-9c10-60ce97002af1"
      },
      "source": [
        "train_data.isnull().sum()     #no of null values present in each coloumn are added in sum function"
      ],
      "execution_count": null,
      "outputs": [
        {
          "output_type": "execute_result",
          "data": {
            "text/plain": [
              "Loan_ID               0\n",
              "Gender               13\n",
              "Married               3\n",
              "Dependents           15\n",
              "Education             0\n",
              "Self_Employed        32\n",
              "ApplicantIncome       0\n",
              "CoapplicantIncome     0\n",
              "LoanAmount           22\n",
              "Loan_Amount_Term     14\n",
              "Credit_History       50\n",
              "Property_Area         0\n",
              "Loan_Status           0\n",
              "dtype: int64"
            ]
          },
          "metadata": {},
          "execution_count": 288
        }
      ]
    },
    {
      "cell_type": "code",
      "metadata": {
        "colab": {
          "base_uri": "https://localhost:8080/"
        },
        "id": "SD7Fxp_0EIaK",
        "outputId": "64c9cecb-6f0e-4696-e2a2-045a1f3c49bd"
      },
      "source": [
        "train_data.isnull().count()       #no of rows are returned in count function"
      ],
      "execution_count": null,
      "outputs": [
        {
          "output_type": "execute_result",
          "data": {
            "text/plain": [
              "Loan_ID              614\n",
              "Gender               614\n",
              "Married              614\n",
              "Dependents           614\n",
              "Education            614\n",
              "Self_Employed        614\n",
              "ApplicantIncome      614\n",
              "CoapplicantIncome    614\n",
              "LoanAmount           614\n",
              "Loan_Amount_Term     614\n",
              "Credit_History       614\n",
              "Property_Area        614\n",
              "Loan_Status          614\n",
              "dtype: int64"
            ]
          },
          "metadata": {},
          "execution_count": 289
        }
      ]
    },
    {
      "cell_type": "code",
      "metadata": {
        "id": "Or2pQyax1skQ",
        "colab": {
          "base_uri": "https://localhost:8080/",
          "height": 417
        },
        "outputId": "59faa671-39f9-4d91-bc02-08bd94c65461"
      },
      "source": [
        "train_data.tail(10)"
      ],
      "execution_count": null,
      "outputs": [
        {
          "output_type": "execute_result",
          "data": {
            "text/html": [
              "<div>\n",
              "<style scoped>\n",
              "    .dataframe tbody tr th:only-of-type {\n",
              "        vertical-align: middle;\n",
              "    }\n",
              "\n",
              "    .dataframe tbody tr th {\n",
              "        vertical-align: top;\n",
              "    }\n",
              "\n",
              "    .dataframe thead th {\n",
              "        text-align: right;\n",
              "    }\n",
              "</style>\n",
              "<table border=\"1\" class=\"dataframe\">\n",
              "  <thead>\n",
              "    <tr style=\"text-align: right;\">\n",
              "      <th></th>\n",
              "      <th>Loan_ID</th>\n",
              "      <th>Gender</th>\n",
              "      <th>Married</th>\n",
              "      <th>Dependents</th>\n",
              "      <th>Education</th>\n",
              "      <th>Self_Employed</th>\n",
              "      <th>ApplicantIncome</th>\n",
              "      <th>CoapplicantIncome</th>\n",
              "      <th>LoanAmount</th>\n",
              "      <th>Loan_Amount_Term</th>\n",
              "      <th>Credit_History</th>\n",
              "      <th>Property_Area</th>\n",
              "      <th>Loan_Status</th>\n",
              "    </tr>\n",
              "  </thead>\n",
              "  <tbody>\n",
              "    <tr>\n",
              "      <th>604</th>\n",
              "      <td>LP002959</td>\n",
              "      <td>Female</td>\n",
              "      <td>Yes</td>\n",
              "      <td>1</td>\n",
              "      <td>Graduate</td>\n",
              "      <td>No</td>\n",
              "      <td>12000</td>\n",
              "      <td>0.0</td>\n",
              "      <td>496.0</td>\n",
              "      <td>360.0</td>\n",
              "      <td>1.0</td>\n",
              "      <td>Semiurban</td>\n",
              "      <td>Y</td>\n",
              "    </tr>\n",
              "    <tr>\n",
              "      <th>605</th>\n",
              "      <td>LP002960</td>\n",
              "      <td>Male</td>\n",
              "      <td>Yes</td>\n",
              "      <td>0</td>\n",
              "      <td>Not Graduate</td>\n",
              "      <td>No</td>\n",
              "      <td>2400</td>\n",
              "      <td>3800.0</td>\n",
              "      <td>NaN</td>\n",
              "      <td>180.0</td>\n",
              "      <td>1.0</td>\n",
              "      <td>Urban</td>\n",
              "      <td>N</td>\n",
              "    </tr>\n",
              "    <tr>\n",
              "      <th>606</th>\n",
              "      <td>LP002961</td>\n",
              "      <td>Male</td>\n",
              "      <td>Yes</td>\n",
              "      <td>1</td>\n",
              "      <td>Graduate</td>\n",
              "      <td>No</td>\n",
              "      <td>3400</td>\n",
              "      <td>2500.0</td>\n",
              "      <td>173.0</td>\n",
              "      <td>360.0</td>\n",
              "      <td>1.0</td>\n",
              "      <td>Semiurban</td>\n",
              "      <td>Y</td>\n",
              "    </tr>\n",
              "    <tr>\n",
              "      <th>607</th>\n",
              "      <td>LP002964</td>\n",
              "      <td>Male</td>\n",
              "      <td>Yes</td>\n",
              "      <td>2</td>\n",
              "      <td>Not Graduate</td>\n",
              "      <td>No</td>\n",
              "      <td>3987</td>\n",
              "      <td>1411.0</td>\n",
              "      <td>157.0</td>\n",
              "      <td>360.0</td>\n",
              "      <td>1.0</td>\n",
              "      <td>Rural</td>\n",
              "      <td>Y</td>\n",
              "    </tr>\n",
              "    <tr>\n",
              "      <th>608</th>\n",
              "      <td>LP002974</td>\n",
              "      <td>Male</td>\n",
              "      <td>Yes</td>\n",
              "      <td>0</td>\n",
              "      <td>Graduate</td>\n",
              "      <td>No</td>\n",
              "      <td>3232</td>\n",
              "      <td>1950.0</td>\n",
              "      <td>108.0</td>\n",
              "      <td>360.0</td>\n",
              "      <td>1.0</td>\n",
              "      <td>Rural</td>\n",
              "      <td>Y</td>\n",
              "    </tr>\n",
              "    <tr>\n",
              "      <th>609</th>\n",
              "      <td>LP002978</td>\n",
              "      <td>Female</td>\n",
              "      <td>No</td>\n",
              "      <td>0</td>\n",
              "      <td>Graduate</td>\n",
              "      <td>No</td>\n",
              "      <td>2900</td>\n",
              "      <td>0.0</td>\n",
              "      <td>71.0</td>\n",
              "      <td>360.0</td>\n",
              "      <td>1.0</td>\n",
              "      <td>Rural</td>\n",
              "      <td>Y</td>\n",
              "    </tr>\n",
              "    <tr>\n",
              "      <th>610</th>\n",
              "      <td>LP002979</td>\n",
              "      <td>Male</td>\n",
              "      <td>Yes</td>\n",
              "      <td>3+</td>\n",
              "      <td>Graduate</td>\n",
              "      <td>No</td>\n",
              "      <td>4106</td>\n",
              "      <td>0.0</td>\n",
              "      <td>40.0</td>\n",
              "      <td>180.0</td>\n",
              "      <td>1.0</td>\n",
              "      <td>Rural</td>\n",
              "      <td>Y</td>\n",
              "    </tr>\n",
              "    <tr>\n",
              "      <th>611</th>\n",
              "      <td>LP002983</td>\n",
              "      <td>Male</td>\n",
              "      <td>Yes</td>\n",
              "      <td>1</td>\n",
              "      <td>Graduate</td>\n",
              "      <td>No</td>\n",
              "      <td>8072</td>\n",
              "      <td>240.0</td>\n",
              "      <td>253.0</td>\n",
              "      <td>360.0</td>\n",
              "      <td>1.0</td>\n",
              "      <td>Urban</td>\n",
              "      <td>Y</td>\n",
              "    </tr>\n",
              "    <tr>\n",
              "      <th>612</th>\n",
              "      <td>LP002984</td>\n",
              "      <td>Male</td>\n",
              "      <td>Yes</td>\n",
              "      <td>2</td>\n",
              "      <td>Graduate</td>\n",
              "      <td>No</td>\n",
              "      <td>7583</td>\n",
              "      <td>0.0</td>\n",
              "      <td>187.0</td>\n",
              "      <td>360.0</td>\n",
              "      <td>1.0</td>\n",
              "      <td>Urban</td>\n",
              "      <td>Y</td>\n",
              "    </tr>\n",
              "    <tr>\n",
              "      <th>613</th>\n",
              "      <td>LP002990</td>\n",
              "      <td>Female</td>\n",
              "      <td>No</td>\n",
              "      <td>0</td>\n",
              "      <td>Graduate</td>\n",
              "      <td>Yes</td>\n",
              "      <td>4583</td>\n",
              "      <td>0.0</td>\n",
              "      <td>133.0</td>\n",
              "      <td>360.0</td>\n",
              "      <td>0.0</td>\n",
              "      <td>Semiurban</td>\n",
              "      <td>N</td>\n",
              "    </tr>\n",
              "  </tbody>\n",
              "</table>\n",
              "</div>"
            ],
            "text/plain": [
              "      Loan_ID  Gender Married  ... Credit_History Property_Area Loan_Status\n",
              "604  LP002959  Female     Yes  ...            1.0     Semiurban           Y\n",
              "605  LP002960    Male     Yes  ...            1.0         Urban           N\n",
              "606  LP002961    Male     Yes  ...            1.0     Semiurban           Y\n",
              "607  LP002964    Male     Yes  ...            1.0         Rural           Y\n",
              "608  LP002974    Male     Yes  ...            1.0         Rural           Y\n",
              "609  LP002978  Female      No  ...            1.0         Rural           Y\n",
              "610  LP002979    Male     Yes  ...            1.0         Rural           Y\n",
              "611  LP002983    Male     Yes  ...            1.0         Urban           Y\n",
              "612  LP002984    Male     Yes  ...            1.0         Urban           Y\n",
              "613  LP002990  Female      No  ...            0.0     Semiurban           N\n",
              "\n",
              "[10 rows x 13 columns]"
            ]
          },
          "metadata": {},
          "execution_count": 290
        }
      ]
    },
    {
      "cell_type": "markdown",
      "metadata": {
        "id": "3GFZpDua_81Z"
      },
      "source": [
        "**Loading the test dataset.**\n",
        "\n",
        "**We will predict the Loan_Status using the model built using the train data.**\n",
        "\n",
        "**As we can see from the informatiion that the loan status is not present in the test dataset**"
      ]
    },
    {
      "cell_type": "code",
      "metadata": {
        "id": "OjjZjN9w1su6",
        "colab": {
          "base_uri": "https://localhost:8080/"
        },
        "outputId": "a9ae8846-b203-4fcb-9f1f-2204be115961"
      },
      "source": [
        "test_data=pd.read_csv(\"/content/drive/MyDrive/Testing Data.csv\")\n",
        "test_data.info()"
      ],
      "execution_count": null,
      "outputs": [
        {
          "output_type": "stream",
          "name": "stdout",
          "text": [
            "<class 'pandas.core.frame.DataFrame'>\n",
            "RangeIndex: 367 entries, 0 to 366\n",
            "Data columns (total 12 columns):\n",
            " #   Column             Non-Null Count  Dtype  \n",
            "---  ------             --------------  -----  \n",
            " 0   Loan_ID            367 non-null    object \n",
            " 1   Gender             356 non-null    object \n",
            " 2   Married            367 non-null    object \n",
            " 3   Dependents         357 non-null    object \n",
            " 4   Education          367 non-null    object \n",
            " 5   Self_Employed      344 non-null    object \n",
            " 6   ApplicantIncome    367 non-null    int64  \n",
            " 7   CoapplicantIncome  367 non-null    int64  \n",
            " 8   LoanAmount         362 non-null    float64\n",
            " 9   Loan_Amount_Term   361 non-null    float64\n",
            " 10  Credit_History     338 non-null    float64\n",
            " 11  Property_Area      367 non-null    object \n",
            "dtypes: float64(3), int64(2), object(7)\n",
            "memory usage: 34.5+ KB\n"
          ]
        }
      ]
    },
    {
      "cell_type": "markdown",
      "metadata": {
        "id": "Enst9BJKCVy_"
      },
      "source": [
        "**Copying the datasets so that if any data cleaning or manipulation is done it doesnt affect the original dataset.**"
      ]
    },
    {
      "cell_type": "code",
      "metadata": {
        "id": "FktNapGb1s9r"
      },
      "source": [
        "train=train_data.copy()\n",
        "test=test_data.copy()"
      ],
      "execution_count": null,
      "outputs": []
    },
    {
      "cell_type": "code",
      "metadata": {
        "colab": {
          "base_uri": "https://localhost:8080/"
        },
        "id": "VE4rigL6CkDU",
        "outputId": "0a7cde60-4bbd-4b80-a7d3-55e7ff34281f"
      },
      "source": [
        "type_data=train.dtypes\n",
        "print(type_data)\n",
        "data_shape=train.shape\n",
        "print(data_shape)"
      ],
      "execution_count": null,
      "outputs": [
        {
          "output_type": "stream",
          "name": "stdout",
          "text": [
            "Loan_ID               object\n",
            "Gender                object\n",
            "Married               object\n",
            "Dependents            object\n",
            "Education             object\n",
            "Self_Employed         object\n",
            "ApplicantIncome        int64\n",
            "CoapplicantIncome    float64\n",
            "LoanAmount           float64\n",
            "Loan_Amount_Term     float64\n",
            "Credit_History       float64\n",
            "Property_Area         object\n",
            "Loan_Status           object\n",
            "dtype: object\n",
            "(614, 13)\n"
          ]
        }
      ]
    },
    {
      "cell_type": "code",
      "metadata": {
        "id": "IRlCCmVr1tMA",
        "colab": {
          "base_uri": "https://localhost:8080/"
        },
        "outputId": "6d8c283a-55b5-415f-e1e0-c531053f2abe"
      },
      "source": [
        "data_shape_test=test.shape        #test data and its shape\n",
        "print(data_shape_test)"
      ],
      "execution_count": null,
      "outputs": [
        {
          "output_type": "stream",
          "name": "stdout",
          "text": [
            "(367, 12)\n"
          ]
        }
      ]
    },
    {
      "cell_type": "markdown",
      "metadata": {
        "id": "Axb2Yno82FTF"
      },
      "source": [
        "**Question 1:-What's the ratio of Male to Female?**\n",
        "**Ratio is 489:112**"
      ]
    },
    {
      "cell_type": "code",
      "metadata": {
        "id": "OZXnIubdCnKD",
        "colab": {
          "base_uri": "https://localhost:8080/"
        },
        "outputId": "782adab1-b1bd-46fd-f4a9-9c246259e30b"
      },
      "source": [
        "ratio=train['Gender'].value_counts()         #question 1\n",
        "print(ratio)"
      ],
      "execution_count": null,
      "outputs": [
        {
          "output_type": "stream",
          "name": "stdout",
          "text": [
            "Male      489\n",
            "Female    112\n",
            "Name: Gender, dtype: int64\n"
          ]
        }
      ]
    },
    {
      "cell_type": "code",
      "metadata": {
        "colab": {
          "base_uri": "https://localhost:8080/"
        },
        "id": "ECOMZY4L9bmR",
        "outputId": "102ce4ff-7089-4c75-c2dc-7167dd744578"
      },
      "source": [
        "ratio1=train['Dependents'].value_counts()        \n",
        "print(ratio1)"
      ],
      "execution_count": null,
      "outputs": [
        {
          "output_type": "stream",
          "name": "stdout",
          "text": [
            "0     345\n",
            "1     102\n",
            "2     101\n",
            "3+     51\n",
            "Name: Dependents, dtype: int64\n"
          ]
        }
      ]
    },
    {
      "cell_type": "code",
      "metadata": {
        "colab": {
          "base_uri": "https://localhost:8080/",
          "height": 232
        },
        "id": "o7Eyapnq9u_U",
        "outputId": "ebacb6e1-18cd-4d1c-c153-2b3ef4e185ff"
      },
      "source": [
        "ratio1.plot.bar(figsize=(3,3), title=\"Dependents\")\n",
        "plt.show()"
      ],
      "execution_count": null,
      "outputs": [
        {
          "output_type": "display_data",
          "data": {
            "image/png": "[encoded data removed]",
            "text/plain": [
              "<Figure size 216x216 with 1 Axes>"
            ]
          },
          "metadata": {
            "needs_background": "light"
          }
        }
      ]
    },
    {
      "cell_type": "code",
      "metadata": {
        "id": "hmkdg-drCnuU",
        "colab": {
          "base_uri": "https://localhost:8080/",
          "height": 253
        },
        "outputId": "b19670c7-3b21-4a0b-ef00-3796ccaa587e"
      },
      "source": [
        "#train[\"Gender\"].value_counts().plot.bar(figsize=(5,5), title=\"Gender\")\n",
        "ratio.plot.bar(figsize=(3,3), title=\"Gender\")\n",
        "plt.show()"
      ],
      "execution_count": null,
      "outputs": [
        {
          "output_type": "display_data",
          "data": {
            "image/png": "[encoded data removed]",
            "text/plain": [
              "<Figure size 216x216 with 1 Axes>"
            ]
          },
          "metadata": {
            "needs_background": "light"
          }
        }
      ]
    },
    {
      "cell_type": "code",
      "metadata": {
        "id": "qC2cwputCoJ0",
        "colab": {
          "base_uri": "https://localhost:8080/"
        },
        "outputId": "1489c363-ede8-4f2a-a2f9-2df7222b9e01"
      },
      "source": [
        "# train.boxplot(column=\"Married\", by = \"Gender\") \n",
        "# plt.suptitle(\"\")\n",
        "ratio2=train[\"Married\"].value_counts()\n",
        "print(ratio2)\n"
      ],
      "execution_count": null,
      "outputs": [
        {
          "output_type": "stream",
          "name": "stdout",
          "text": [
            "Yes    398\n",
            "No     213\n",
            "Name: Married, dtype: int64\n"
          ]
        }
      ]
    },
    {
      "cell_type": "markdown",
      "metadata": {
        "id": "Trnyoc0M6CnI"
      },
      "source": [
        "**5. Which type of encoding will be required to perform on the \"Education\" column?**\n",
        "\n",
        "**Ans:One hot encoding is performed for 'Education' column as it comes under categorical features**"
      ]
    },
    {
      "cell_type": "code",
      "metadata": {
        "colab": {
          "base_uri": "https://localhost:8080/"
        },
        "id": "QAtJdQ1e5_Zx",
        "outputId": "8760c9c8-0571-439c-f6ea-ab5537518201"
      },
      "source": [
        "ratio3=train['Education'].value_counts()\n",
        "print(ratio3)\n"
      ],
      "execution_count": null,
      "outputs": [
        {
          "output_type": "stream",
          "name": "stdout",
          "text": [
            "Graduate        480\n",
            "Not Graduate    134\n",
            "Name: Education, dtype: int64\n"
          ]
        }
      ]
    },
    {
      "cell_type": "code",
      "metadata": {
        "colab": {
          "base_uri": "https://localhost:8080/",
          "height": 357
        },
        "id": "mtzw_Wmp8FFG",
        "outputId": "c9e12d28-8ff0-4666-a2f1-6ddb21dc6c92"
      },
      "source": [
        "train[\"Education\"].value_counts(normalize=True).plot.bar(title=\"Education\")"
      ],
      "execution_count": null,
      "outputs": [
        {
          "output_type": "execute_result",
          "data": {
            "text/plain": [
              "<matplotlib.axes._subplots.AxesSubplot at 0x7fe57991f2d0>"
            ]
          },
          "metadata": {},
          "execution_count": 301
        },
        {
          "output_type": "display_data",
          "data": {
            "image/png": "[encoded data removed]",
            "text/plain": [
              "<Figure size 432x288 with 1 Axes>"
            ]
          },
          "metadata": {
            "needs_background": "light"
          }
        }
      ]
    },
    {
      "cell_type": "markdown",
      "metadata": {
        "id": "2hein9yWoLzA"
      },
      "source": [
        "**question 2. How many Males are married and non-married?**\n",
        "**Question 3. How many Females are married and non-married?**"
      ]
    },
    {
      "cell_type": "code",
      "metadata": {
        "id": "ZXR4OxwwCohk",
        "colab": {
          "base_uri": "https://localhost:8080/",
          "height": 305
        },
        "outputId": "f1f38f1f-7972-4116-f039-117e2bd239d5"
      },
      "source": [
        "Gender=pd.crosstab(train[\"Gender\"],train[\"Married\"])\n",
        "Gender.div(Gender.sum(1).astype(float), axis=0).plot(kind=\"bar\",stacked=True,figsize=(4,4))\n",
        "plt.show()"
      ],
      "execution_count": null,
      "outputs": [
        {
          "output_type": "display_data",
          "data": {
            "image/png": "[encoded data removed]",
            "text/plain": [
              "<Figure size 288x288 with 1 Axes>"
            ]
          },
          "metadata": {
            "needs_background": "light"
          }
        }
      ]
    },
    {
      "cell_type": "markdown",
      "metadata": {
        "id": "15VDE8g9oStH"
      },
      "source": [
        "**question 6:-Is it a male or a female whose loan amount is the highest?** "
      ]
    },
    {
      "cell_type": "code",
      "metadata": {
        "id": "f6Scypa0Co3M",
        "colab": {
          "base_uri": "https://localhost:8080/",
          "height": 310
        },
        "outputId": "dff31bb3-e333-46f1-e6de-2741a9be2b57"
      },
      "source": [
        "bins=[0,100,200,700]\n",
        "group=[\"Low\",\"Average\",\"High\"]\n",
        "train[\"LoanAmount_bin\"]=pd.cut(train[\"LoanAmount\"],bins,labels=group)\n",
        "LoanAmount_bin=pd.crosstab(train[\"LoanAmount_bin\"],train[\"Gender\"])\n",
        "LoanAmount_bin.div(LoanAmount_bin.sum(1).astype(float), axis=0).plot(kind=\"bar\",stacked=True)\n",
        "plt.xlabel(\"LoanAmount\")\n",
        "P=plt.ylabel(\"Percentage\")"
      ],
      "execution_count": null,
      "outputs": [
        {
          "output_type": "display_data",
          "data": {
            "image/png": "[encoded data removed]",
            "text/plain": [
              "<Figure size 432x288 with 1 Axes>"
            ]
          },
          "metadata": {
            "needs_background": "light"
          }
        }
      ]
    },
    {
      "cell_type": "code",
      "metadata": {
        "id": "db0kNkpLxosa",
        "colab": {
          "base_uri": "https://localhost:8080/",
          "height": 1000
        },
        "outputId": "661d291e-40e7-4ae4-9271-a89e96574a92"
      },
      "source": [
        "sns.distplot(train[\"ApplicantIncome\"])\n",
        "plt.show()\n",
        "\n",
        "train[\"ApplicantIncome\"].plot.box(figsize=(5,5))\n",
        "plt.show()\n",
        "\n",
        "sns.distplot(train[\"CoapplicantIncome\"])\n",
        "plt.show()\n",
        "\n",
        "train[\"CoapplicantIncome\"].plot.box(figsize=(5,5))\n",
        "plt.show()"
      ],
      "execution_count": null,
      "outputs": [
        {
          "output_type": "display_data",
          "data": {
            "image/png": "[encoded data removed]",
            "text/plain": [
              "<Figure size 432x288 with 1 Axes>"
            ]
          },
          "metadata": {
            "needs_background": "light"
          }
        },
        {
          "output_type": "display_data",
          "data": {
            "image/png": "[encoded data removed]",
            "text/plain": [
              "<Figure size 360x360 with 1 Axes>"
            ]
          },
          "metadata": {
            "needs_background": "light"
          }
        },
        {
          "output_type": "display_data",
          "data": {
            "image/png": "[encoded data removed]",
            "text/plain": [
              "<Figure size 432x288 with 1 Axes>"
            ]
          },
          "metadata": {
            "needs_background": "light"
          }
        },
        {
          "output_type": "display_data",
          "data": {
            "image/png": "[encoded data removed]",
            "text/plain": [
              "<Figure size 360x360 with 1 Axes>"
            ]
          },
          "metadata": {
            "needs_background": "light"
          }
        }
      ]
    },
    {
      "cell_type": "code",
      "metadata": {
        "colab": {
          "base_uri": "https://localhost:8080/",
          "height": 310
        },
        "id": "cmLX6zbG-g1D",
        "outputId": "60d29dee-ef12-4041-ec18-3034a786d380"
      },
      "source": [
        "bins=[0,1000,3000,42000]\n",
        "group=[\"Low\",\"Average\",\"High\"]\n",
        "train[\"Coapplicant_Income_bin\"]=pd.cut(train[\"CoapplicantIncome\"],bins,labels=group)\n",
        "Coapplicant_Income_bin=pd.crosstab(train[\"Coapplicant_Income_bin\"],train[\"Loan_Status\"])\n",
        "Coapplicant_Income_bin.div(Coapplicant_Income_bin.sum(1).astype(float), axis=0).plot(kind=\"bar\",stacked=True)\n",
        "plt.xlabel(\"CoapplicantIncome\")\n",
        "P=plt.ylabel(\"Percentage\")"
      ],
      "execution_count": null,
      "outputs": [
        {
          "output_type": "display_data",
          "data": {
            "image/png": "[encoded data removed]",
            "text/plain": [
              "<Figure size 432x288 with 1 Axes>"
            ]
          },
          "metadata": {
            "needs_background": "light"
          }
        }
      ]
    },
    {
      "cell_type": "code",
      "metadata": {
        "colab": {
          "base_uri": "https://localhost:8080/",
          "height": 318
        },
        "id": "gkKY9vE9-iVc",
        "outputId": "26ed0e23-9b5f-4893-e5e9-0751df837d5f"
      },
      "source": [
        "train[\"Total_Income\"]=train[\"ApplicantIncome\"]+train[\"CoapplicantIncome\"]\n",
        "bins=[0,2500,4000,6000,81000]\n",
        "group=[\"Low\",\"Average\",\"High\",\"Very high\"]\n",
        "train[\"Total_Income_bin\"]=pd.cut(train[\"Total_Income\"],bins,labels=group)\n",
        "Total_Income_bin=pd.crosstab(train[\"Total_Income_bin\"],train[\"Loan_Status\"])\n",
        "Total_Income_bin.div(Total_Income_bin.sum(1).astype(float), axis=0).plot(kind=\"bar\",stacked=True)\n",
        "plt.xlabel(\"Total_Income\")\n",
        "P=plt.ylabel(\"Percentage\")"
      ],
      "execution_count": null,
      "outputs": [
        {
          "output_type": "display_data",
          "data": {
            "image/png": "[encoded data removed]",
            "text/plain": [
              "<Figure size 432x288 with 1 Axes>"
            ]
          },
          "metadata": {
            "needs_background": "light"
          }
        }
      ]
    },
    {
      "cell_type": "code",
      "metadata": {
        "colab": {
          "base_uri": "https://localhost:8080/",
          "height": 310
        },
        "id": "gZWvBaT3-gjF",
        "outputId": "d0969269-1fee-4d3c-a50a-3dca0d45bd92"
      },
      "source": [
        "bins=[0,100,200,700]\n",
        "group=[\"Low\",\"Average\",\"High\"]\n",
        "train[\"LoanAmount_bin\"]=pd.cut(train[\"LoanAmount\"],bins,labels=group)\n",
        "LoanAmount_bin=pd.crosstab(train[\"LoanAmount_bin\"],train[\"Loan_Status\"])\n",
        "LoanAmount_bin.div(LoanAmount_bin.sum(1).astype(float), axis=0).plot(kind=\"bar\",stacked=True)\n",
        "plt.xlabel(\"LoanAmount\")\n",
        "P=plt.ylabel(\"Percentage\")"
      ],
      "execution_count": null,
      "outputs": [
        {
          "output_type": "display_data",
          "data": {
            "image/png": "[encoded data removed]",
            "text/plain": [
              "<Figure size 432x288 with 1 Axes>"
            ]
          },
          "metadata": {
            "needs_background": "light"
          }
        }
      ]
    },
    {
      "cell_type": "code",
      "metadata": {
        "colab": {
          "base_uri": "https://localhost:8080/",
          "height": 317
        },
        "id": "5lEtd_vsILI-",
        "outputId": "fea297fc-207c-4e92-9f0a-805367a402e5"
      },
      "source": [
        "bins=[0,2500,4000,6000,81000]\n",
        "group=[\"Low\",\"Average\",\"High\",\"Very high\"]\n",
        "train[\"Income_bin\"]=pd.cut(train[\"ApplicantIncome\"],bins,labels=group)\n",
        "Income_bin=pd.crosstab(train[\"Income_bin\"],train[\"Loan_Status\"])\n",
        "Income_bin.div(Income_bin.sum(1).astype(float), axis=0).plot(kind=\"bar\",stacked=True)\n",
        "plt.xlabel(\"ApplicantIncome\")\n",
        "P=plt.ylabel(\"Percentage\")"
      ],
      "execution_count": null,
      "outputs": [
        {
          "output_type": "display_data",
          "data": {
            "image/png": "[encoded data removed]",
            "text/plain": [
              "<Figure size 432x288 with 1 Axes>"
            ]
          },
          "metadata": {
            "needs_background": "light"
          }
        }
      ]
    },
    {
      "cell_type": "code",
      "metadata": {
        "id": "vOivuS3jqBCv"
      },
      "source": [
        "train=train.drop([\"Income_bin\", \"Coapplicant_Income_bin\", \"LoanAmount_bin\", \"Total_Income_bin\", \"Total_Income\"], axis=1)\n",
        "\n",
        "train[\"Dependents\"].replace(\"3+\", 3,inplace=True)\n",
        "test[\"Dependents\"].replace(\"3+\", 3,inplace=True)\n",
        "\n",
        "train[\"Loan_Status\"].replace(\"N\", 0,inplace=True)\n",
        "train[\"Loan_Status\"].replace(\"Y\", 1,inplace=True)"
      ],
      "execution_count": null,
      "outputs": []
    },
    {
      "cell_type": "markdown",
      "metadata": {
        "id": "ohIvXT8sPwMs"
      },
      "source": [
        "**question 8:-\n",
        "What all features are you going to consider for the model training and why? (Give the appropriate reason for\n",
        "choosing such features among others)**"
      ]
    },
    {
      "cell_type": "code",
      "metadata": {
        "id": "FvajHFOj84eE",
        "colab": {
          "base_uri": "https://localhost:8080/",
          "height": 483
        },
        "outputId": "ddc0800d-3ef1-4bf1-d3b4-ee56a25ef902"
      },
      "source": [
        "matrix = train.corr()\n",
        "f, ax = plt.subplots(figsize=(9,6))\n",
        "sns.heatmap(matrix,vmax=.8,square=True,cmap=\"BuPu\", annot = True)"
      ],
      "execution_count": null,
      "outputs": [
        {
          "output_type": "execute_result",
          "data": {
            "text/plain": [
              "<matplotlib.axes._subplots.AxesSubplot at 0x7fe579a0af90>"
            ]
          },
          "metadata": {},
          "execution_count": 310
        },
        {
          "output_type": "display_data",
          "data": {
            "image/png": "[encoded data removed]",
            "text/plain": [
              "<Figure size 648x432 with 2 Axes>"
            ]
          },
          "metadata": {
            "needs_background": "light"
          }
        }
      ]
    },
    {
      "cell_type": "code",
      "metadata": {
        "id": "qybmY9Xg84y7",
        "colab": {
          "base_uri": "https://localhost:8080/"
        },
        "outputId": "4e4b7188-eada-4a53-c258-0c4bd824a75c"
      },
      "source": [
        "train.isnull().sum()"
      ],
      "execution_count": null,
      "outputs": [
        {
          "output_type": "execute_result",
          "data": {
            "text/plain": [
              "Loan_ID               0\n",
              "Gender               13\n",
              "Married               3\n",
              "Dependents           15\n",
              "Education             0\n",
              "Self_Employed        32\n",
              "ApplicantIncome       0\n",
              "CoapplicantIncome     0\n",
              "LoanAmount           22\n",
              "Loan_Amount_Term     14\n",
              "Credit_History       50\n",
              "Property_Area         0\n",
              "Loan_Status           0\n",
              "dtype: int64"
            ]
          },
          "metadata": {},
          "execution_count": 311
        }
      ]
    },
    {
      "cell_type": "markdown",
      "metadata": {
        "id": "gBCm3QzpJODK"
      },
      "source": [
        "**missing values treatment**"
      ]
    },
    {
      "cell_type": "code",
      "metadata": {
        "id": "TDi0igiNqA58"
      },
      "source": [
        "train[\"Gender\"].fillna(train[\"Gender\"].mode()[0], inplace=True)\n",
        "train[\"Married\"].fillna(train[\"Married\"].mode()[0], inplace=True)\n",
        "train[\"Dependents\"].fillna(train[\"Dependents\"].mode()[0], inplace=True)\n",
        "train[\"Self_Employed\"].fillna(train[\"Self_Employed\"].mode()[0], inplace=True)\n",
        "train[\"Credit_History\"].fillna(train[\"Credit_History\"].mode()[0], inplace=True)"
      ],
      "execution_count": null,
      "outputs": []
    },
    {
      "cell_type": "code",
      "metadata": {
        "id": "K4yXLfKiqA07",
        "colab": {
          "base_uri": "https://localhost:8080/"
        },
        "outputId": "5f19baf2-6e7c-4bae-f7a1-6cf573130f7d"
      },
      "source": [
        "train[\"Loan_Amount_Term\"].value_counts()"
      ],
      "execution_count": null,
      "outputs": [
        {
          "output_type": "execute_result",
          "data": {
            "text/plain": [
              "360.0    512\n",
              "180.0     44\n",
              "480.0     15\n",
              "300.0     13\n",
              "84.0       4\n",
              "240.0      4\n",
              "120.0      3\n",
              "36.0       2\n",
              "60.0       2\n",
              "12.0       1\n",
              "Name: Loan_Amount_Term, dtype: int64"
            ]
          },
          "metadata": {},
          "execution_count": 313
        }
      ]
    },
    {
      "cell_type": "code",
      "metadata": {
        "id": "-KDpD5ddqAxD"
      },
      "source": [
        "train[\"Loan_Amount_Term\"].fillna(train[\"Loan_Amount_Term\"].mode()[0], inplace=True)"
      ],
      "execution_count": null,
      "outputs": []
    },
    {
      "cell_type": "code",
      "metadata": {
        "id": "NOSgo7xir9DU"
      },
      "source": [
        "train[\"LoanAmount\"].fillna(train[\"LoanAmount\"].median(), inplace=True)"
      ],
      "execution_count": null,
      "outputs": []
    },
    {
      "cell_type": "code",
      "metadata": {
        "id": "wTOGR4FVqAkS",
        "colab": {
          "base_uri": "https://localhost:8080/"
        },
        "outputId": "21e11199-bb57-4a42-cf74-4181c45d10ef"
      },
      "source": [
        "train.isnull().sum()"
      ],
      "execution_count": null,
      "outputs": [
        {
          "output_type": "execute_result",
          "data": {
            "text/plain": [
              "Loan_ID              0\n",
              "Gender               0\n",
              "Married              0\n",
              "Dependents           0\n",
              "Education            0\n",
              "Self_Employed        0\n",
              "ApplicantIncome      0\n",
              "CoapplicantIncome    0\n",
              "LoanAmount           0\n",
              "Loan_Amount_Term     0\n",
              "Credit_History       0\n",
              "Property_Area        0\n",
              "Loan_Status          0\n",
              "dtype: int64"
            ]
          },
          "metadata": {},
          "execution_count": 316
        }
      ]
    },
    {
      "cell_type": "markdown",
      "metadata": {
        "id": "CBwFp2wCKgTV"
      },
      "source": [
        "**missing values treatment in test data set**"
      ]
    },
    {
      "cell_type": "code",
      "metadata": {
        "id": "ZChb9FceKO3c"
      },
      "source": [
        "test[\"Gender\"].fillna(train[\"Gender\"].mode()[0], inplace=True)\n",
        "test[\"Married\"].fillna(train[\"Married\"].mode()[0], inplace=True)\n",
        "test[\"Dependents\"].fillna(train[\"Dependents\"].mode()[0], inplace=True)\n",
        "test[\"Self_Employed\"].fillna(train[\"Self_Employed\"].mode()[0], inplace=True)\n",
        "test[\"Credit_History\"].fillna(train[\"Credit_History\"].mode()[0], inplace=True)\n",
        "test[\"Loan_Amount_Term\"].fillna(train[\"Loan_Amount_Term\"].mode()[0], inplace=True)\n",
        "test[\"LoanAmount\"].fillna(train[\"LoanAmount\"].median(), inplace=True)"
      ],
      "execution_count": null,
      "outputs": []
    },
    {
      "cell_type": "markdown",
      "metadata": {
        "id": "VHdaPVYcLQ3F"
      },
      "source": [
        "**Outliers treatment**"
      ]
    },
    {
      "cell_type": "code",
      "metadata": {
        "id": "nQtgdXlMKOpY",
        "colab": {
          "base_uri": "https://localhost:8080/",
          "height": 265
        },
        "outputId": "c0c917e0-a82e-4587-ce39-e8a13d516c4f"
      },
      "source": [
        "train[\"LoanAmount_log\"]=np.log(train[\"LoanAmount\"])\n",
        "train[\"LoanAmount_log\"].hist(bins=20)\n",
        "test[\"LoanAmount_log\"]=np.log(test[\"LoanAmount\"])"
      ],
      "execution_count": null,
      "outputs": [
        {
          "output_type": "display_data",
          "data": {
            "image/png": "[encoded data removed]",
            "text/plain": [
              "<Figure size 432x288 with 1 Axes>"
            ]
          },
          "metadata": {
            "needs_background": "light"
          }
        }
      ]
    },
    {
      "cell_type": "markdown",
      "metadata": {
        "id": "uKTUZ4xnLuEc"
      },
      "source": [
        "**Dropping the load_id column from both train and test dataset**"
      ]
    },
    {
      "cell_type": "code",
      "metadata": {
        "id": "efoB5kEVLhjk"
      },
      "source": [
        "train=train.drop(\"Loan_ID\",axis=1)\n",
        "test=test.drop(\"Loan_ID\",axis=1)"
      ],
      "execution_count": null,
      "outputs": []
    },
    {
      "cell_type": "markdown",
      "metadata": {
        "id": "VbDBLU02MHQt"
      },
      "source": [
        "**Dropping from the original dataset and storing in another**"
      ]
    },
    {
      "cell_type": "code",
      "metadata": {
        "id": "jvnzqsW1Ljfl"
      },
      "source": [
        "X = train.drop(\"Loan_Status\",1)\n",
        "y = train.Loan_Status"
      ],
      "execution_count": null,
      "outputs": []
    },
    {
      "cell_type": "code",
      "metadata": {
        "id": "YJ9W_nmkL3R7"
      },
      "source": [
        "X = pd.get_dummies(X)\n",
        "train=pd.get_dummies(train)\n",
        "test=pd.get_dummies(test)"
      ],
      "execution_count": null,
      "outputs": []
    },
    {
      "cell_type": "markdown",
      "metadata": {
        "id": "16wczRufMh2Y"
      },
      "source": [
        "**We will use the train_test_split function from sklearn to divide our train dataset. So, first, let us import train_test_split.**"
      ]
    },
    {
      "cell_type": "code",
      "metadata": {
        "id": "_c9s0BTIL4Q2"
      },
      "source": [
        "from sklearn.model_selection import train_test_split\n",
        "x_train, x_cv, y_train, y_cv = train_test_split(X,y, test_size=0.3)"
      ],
      "execution_count": null,
      "outputs": []
    },
    {
      "cell_type": "markdown",
      "metadata": {
        "id": "rIulQAMyMwm1"
      },
      "source": [
        "**9. Which model are you going to choose and define the reason for going with the same model?**\n",
        "\n",
        "**Model:logistic regression used**\n",
        "\n",
        "\n",
        "**Reason:As this is a classification problem,Logistic regression provides a probability score for observations.**"
      ]
    },
    {
      "cell_type": "code",
      "metadata": {
        "colab": {
          "base_uri": "https://localhost:8080/"
        },
        "id": "5TDlJvZQL4_2",
        "outputId": "d384c291-247b-4054-edeb-b17dc2744b51"
      },
      "source": [
        "from sklearn.linear_model import LogisticRegression\n",
        "from sklearn.metrics import accuracy_score\n",
        "model = LogisticRegression()\n",
        "model.fit(x_train, y_train)\n",
        "LogisticRegression()"
      ],
      "execution_count": null,
      "outputs": [
        {
          "output_type": "execute_result",
          "data": {
            "text/plain": [
              "LogisticRegression(C=1.0, class_weight=None, dual=False, fit_intercept=True,\n",
              "                   intercept_scaling=1, l1_ratio=None, max_iter=100,\n",
              "                   multi_class='auto', n_jobs=None, penalty='l2',\n",
              "                   random_state=None, solver='lbfgs', tol=0.0001, verbose=0,\n",
              "                   warm_start=False)"
            ]
          },
          "metadata": {},
          "execution_count": 323
        }
      ]
    },
    {
      "cell_type": "markdown",
      "metadata": {
        "id": "FxlHHfzY4RiY"
      },
      "source": [
        "**10. Have you performed the Hyper Parameter Tuning?**\n",
        "\n",
        "**Ans:Here I haven't performed any!**"
      ]
    },
    {
      "cell_type": "markdown",
      "metadata": {
        "id": "B5mmXsLgQLBS"
      },
      "source": [
        "**Question 12:-What's the accuracy of your model?**"
      ]
    },
    {
      "cell_type": "code",
      "metadata": {
        "id": "k2SFHb8CKOca",
        "colab": {
          "base_uri": "https://localhost:8080/"
        },
        "outputId": "53322c23-74a8-4a6c-881d-53624bdb156a"
      },
      "source": [
        "pred_cv = model.predict(x_cv)\n",
        "# print(pred_cv)\n",
        "# print(y_cv)\n",
        "accuracy_score(y_cv,pred_cv)"
      ],
      "execution_count": null,
      "outputs": [
        {
          "output_type": "execute_result",
          "data": {
            "text/plain": [
              "0.7945945945945946"
            ]
          },
          "metadata": {},
          "execution_count": 324
        }
      ]
    },
    {
      "cell_type": "markdown",
      "metadata": {
        "id": "cNL5QTGENJuu"
      },
      "source": [
        "**Predictions for test dataset**"
      ]
    },
    {
      "cell_type": "code",
      "metadata": {
        "id": "NcQrs3AJKOLI",
        "colab": {
          "base_uri": "https://localhost:8080/"
        },
        "outputId": "cf3b7892-d162-4ef1-fa20-2509a61f10eb"
      },
      "source": [
        "pred_test = model.predict(test)\n",
        "print(pred_test)"
      ],
      "execution_count": null,
      "outputs": [
        {
          "output_type": "stream",
          "name": "stdout",
          "text": [
            "[1 1 1 1 1 1 1 0 1 1 1 1 1 0 1 1 1 1 1 1 1 1 1 1 1 0 1 1 1 1 1 1 1 1 1 0 1\n",
            " 1 1 1 1 1 1 1 1 1 1 1 1 1 1 1 1 1 1 0 1 1 0 1 1 1 1 0 1 1 0 0 1 0 1 1 1 1\n",
            " 1 1 1 1 1 1 0 1 0 1 1 1 1 1 1 1 1 1 1 1 0 1 1 1 1 1 1 0 1 1 1 1 0 1 1 1 1\n",
            " 1 1 1 1 1 1 0 0 0 1 1 1 0 0 1 0 1 1 1 1 1 1 1 1 1 1 1 1 1 0 1 0 1 1 1 1 0\n",
            " 1 1 1 1 1 0 1 1 1 1 1 1 1 0 1 1 1 0 0 1 0 1 1 1 1 0 0 1 1 1 1 1 1 1 1 1 1\n",
            " 1 1 1 1 1 1 1 0 0 1 1 0 1 0 1 1 1 1 1 1 1 1 1 1 0 1 0 1 1 1 1 1 1 1 1 1 1\n",
            " 1 1 0 1 1 1 1 0 1 1 1 1 1 0 0 0 1 1 1 0 1 0 1 1 1 1 1 1 0 1 1 1 1 0 1 1 1\n",
            " 1 1 1 1 1 1 1 0 0 0 1 1 1 1 0 0 1 1 1 0 1 1 1 1 1 1 1 1 1 1 1 1 1 1 0 0 1\n",
            " 1 1 1 1 1 0 1 0 1 1 1 1 1 1 1 0 1 1 1 1 1 0 1 1 1 1 1 1 1 1 1 1 1 1 1 1 0\n",
            " 1 1 1 1 1 1 0 1 1 1 1 1 1 0 1 1 1 1 1 1 1 0 1 1 1 1 1 1 1 1 1 1 1 1]\n"
          ]
        }
      ]
    },
    {
      "cell_type": "code",
      "metadata": {
        "id": "rAQ9EcBpN25e"
      },
      "source": [
        "# print(\"Test Accuracy: \",accuracy_score(y_cv,pred_cv))\n",
        "# print(\"Test F1 Score: \",f1_score(y_cv,pred_cv))\n",
        "# print(\"Confusion Matrix on Test Data\")\n",
        "# pd.crosstab(y_cv, pred_cv, rownames=['True'], colnames=['Predicted'], margins=True)"
      ],
      "execution_count": null,
      "outputs": []
    },
    {
      "cell_type": "markdown",
      "metadata": {
        "id": "Qgmya52RuAvJ"
      },
      "source": [
        "**13. In order to improve the accuracy, what more approaches can be done?**\n",
        "\n",
        "\n",
        "\n",
        "\n",
        "\n",
        "\n",
        "\n",
        "**14. What can you conclude with respect to the data?**"
      ]
    },
    {
      "cell_type": "markdown",
      "metadata": {
        "id": "5HGhFSiTu382"
      },
      "source": [
        "**Ans 13:In order to improve accuracy:\n",
        "Feature scaling/normalization,\n",
        "looking for class imbalance,\n",
        "optimizing other scores like log loss etc\n",
        "these are the points for further improvement of the accuracy needs to be considered.**\n",
        "\n",
        "**Ans 14:Credit_History is a very important variable because of its high correlation with Loan_Status therefore showing high Dependancy for the latter.From the heat map generated we can conclude that**"
      ]
    },
    {
      "cell_type": "markdown",
      "metadata": {
        "id": "Y9SAvzzxz3Ud"
      },
      "source": [
        "**11. Compare the Actual results with the Predicted results**"
      ]
    },
    {
      "cell_type": "markdown",
      "metadata": {
        "id": "9uwYhDX7yRj1"
      },
      "source": [
        "**Confusion matrix**"
      ]
    },
    {
      "cell_type": "code",
      "metadata": {
        "id": "zWhZsmiGN3cB",
        "colab": {
          "base_uri": "https://localhost:8080/"
        },
        "outputId": "1110fc19-54d3-43b6-c04e-d08704859e0a"
      },
      "source": [
        "from sklearn import metrics\n",
        "cnf_matrix = metrics.confusion_matrix(y_cv, pred_cv)\n",
        "cnf_matrix"
      ],
      "execution_count": null,
      "outputs": [
        {
          "output_type": "execute_result",
          "data": {
            "text/plain": [
              "array([[ 29,  32],\n",
              "       [  6, 118]])"
            ]
          },
          "metadata": {},
          "execution_count": 327
        }
      ]
    },
    {
      "cell_type": "markdown",
      "metadata": {
        "id": "F0nnU5Xcx8_W"
      },
      "source": [
        "**Actual predictions are diagonal values**\n",
        "\n",
        "**Incorrect predictions are:non-diagonal values**"
      ]
    },
    {
      "cell_type": "code",
      "metadata": {
        "colab": {
          "base_uri": "https://localhost:8080/",
          "height": 343
        },
        "id": "pl3I9gTtzXwb",
        "outputId": "1aa39184-75cb-4227-c250-e4baca73caa6"
      },
      "source": [
        "class_names=[0,1] # name  of classes\n",
        "fig, ax = plt.subplots()\n",
        "tick_marks = np.arange(len(class_names))\n",
        "plt.xticks(tick_marks, class_names)\n",
        "plt.yticks(tick_marks, class_names)\n",
        "# create heatmap\n",
        "sns.heatmap(pd.DataFrame(cnf_matrix), annot=True, cmap=\"YlGnBu\" ,fmt='g')\n",
        "ax.xaxis.set_label_position(\"top\")\n",
        "plt.tight_layout()\n",
        "plt.title('Confusion matrix', y=1.1)\n",
        "plt.ylabel('Actual label')\n",
        "plt.xlabel('Predicted label')"
      ],
      "execution_count": null,
      "outputs": [
        {
          "output_type": "execute_result",
          "data": {
            "text/plain": [
              "Text(0.5, 257.44, 'Predicted label')"
            ]
          },
          "metadata": {},
          "execution_count": 328
        },
        {
          "output_type": "display_data",
          "data": {
            "image/png": "[encoded data removed]",
            "text/plain": [
              "<Figure size 432x288 with 2 Axes>"
            ]
          },
          "metadata": {
            "needs_background": "light"
          }
        }
      ]
    },
    {
      "cell_type": "markdown",
      "metadata": {
        "id": "GVf9R0Noy6QG"
      },
      "source": [
        "**Accuracy,Precision,Recall**"
      ]
    },
    {
      "cell_type": "code",
      "metadata": {
        "id": "LNO4X8rBN3jq",
        "colab": {
          "base_uri": "https://localhost:8080/"
        },
        "outputId": "5d5c42ec-90a0-4116-fe94-55ecd1b0ec8c"
      },
      "source": [
        "print(\"Accuracy:\",metrics.accuracy_score(y_cv, pred_cv))\n",
        "print(\"Precision:\",metrics.precision_score(y_cv, pred_cv))\n",
        "print(\"Recall:\",metrics.recall_score(y_cv, pred_cv))"
      ],
      "execution_count": null,
      "outputs": [
        {
          "output_type": "stream",
          "name": "stdout",
          "text": [
            "Accuracy: 0.7945945945945946\n",
            "Precision: 0.7866666666666666\n",
            "Recall: 0.9516129032258065\n"
          ]
        }
      ]
    },
    {
      "cell_type": "markdown",
      "metadata": {
        "id": "hRgZx-zRTqSl"
      },
      "source": [
        "**Writing the pickle file**"
      ]
    },
    {
      "cell_type": "code",
      "metadata": {
        "id": "ZrTHfxIBSxcd"
      },
      "source": [
        "pickle_out = open(\"/content/model_weight_pratyusha_project_1.pickle\",\"wb\")\n",
        "pickle.dump(model, pickle_out)\n",
        "pickle_out.close()"
      ],
      "execution_count": null,
      "outputs": []
    }
  ]
}